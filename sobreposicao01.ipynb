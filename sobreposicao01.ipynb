{
 "cells": [
  {
   "cell_type": "code",
   "execution_count": 2,
   "metadata": {},
   "outputs": [],
   "source": [
    "retangulo_A = [(82, 137, 83, 121), (83, 121, 241, 128), (240, 144, 241, 128), (82, 137, 240, 144)]\n",
    "retangulo_B = [(122, 40, 137, 39), (137, 39, 155, 199), (141, 201, 155, 199), (122, 40, 141, 201)]\n",
    "inclinacoes = [60.7, 2.54, 83.27]"
   ]
  },
  {
   "cell_type": "code",
   "execution_count": 3,
   "metadata": {},
   "outputs": [],
   "source": [
    "import cv2\n",
    "import numpy as np"
   ]
  },
  {
   "cell_type": "code",
   "execution_count": 4,
   "metadata": {},
   "outputs": [],
   "source": [
    "img = np.zeros((400,400,3), dtype=np.uint8)\n",
    "CORES = [\n",
    "    (255, 255, 255),  # Branco\n",
    "    (0, 255, 255),    # Ciano\n",
    "    (0, 255, 0),      # Verde claro\n",
    "    (255, 0, 255),    # Magenta\n",
    "    (255, 255, 0),    # Amarelo\n",
    "    (0, 0, 255),      # Vermelho\n",
    "    (0, 0, 125),\n",
    "    (125, 0, 125),\n",
    "\n",
    "]\n",
    "# cv2.imshow(\"Imagem np\", img)\n",
    "# cv2.waitKey(0)"
   ]
  },
  {
   "cell_type": "code",
   "execution_count": 5,
   "metadata": {},
   "outputs": [],
   "source": [
    "for i in range(4):\n",
    "    cv2.line(img, retangulo_A[i][:2], retangulo_A[i][2:], CORES[i], 1)\n",
    "    cv2.line(img, retangulo_B[i][:2], retangulo_B[i][2:], CORES[i], 1)\n"
   ]
  },
  {
   "cell_type": "code",
   "execution_count": 7,
   "metadata": {},
   "outputs": [
    {
     "data": {
      "text/plain": [
       "-1"
      ]
     },
     "execution_count": 7,
     "metadata": {},
     "output_type": "execute_result"
    }
   ],
   "source": [
    "cv2.imshow(\"Imagem np\", cv2.flip(img, 0))\n",
    "cv2.waitKey(0)"
   ]
  },
  {
   "cell_type": "code",
   "execution_count": 9,
   "metadata": {},
   "outputs": [],
   "source": [
    "Axi,Ayi,Axf,Ayf = retangulo_A[1]\n",
    "Bxi,Byi,Bxf,Byf = retangulo_B[1]\n",
    "\n",
    "Am = (Ayf - Ayi)/(Axf - Axi)\n",
    "Ab = Ayi - Am*Axi\n",
    "\n",
    "Bm = (Byf - Byi)/(Bxf - Bxi)\n",
    "Bb = Byi - Bm*Bxi\n",
    "\n"
   ]
  },
  {
   "cell_type": "code",
   "execution_count": null,
   "metadata": {},
   "outputs": [],
   "source": [
    "print()"
   ]
  },
  {
   "cell_type": "code",
   "execution_count": 21,
   "metadata": {},
   "outputs": [
    {
     "name": "stdout",
     "output_type": "stream",
     "text": [
      "Axi: 146 Ayi: 124\n",
      "Bxi: 147 Byi: 128\n",
      "Axi: 147 Ayi: 124\n",
      "Bxi: 147 Byi: 128\n",
      "Axi: 148 Ayi: 124\n",
      "Bxi: 147 Byi: 128\n"
     ]
    }
   ],
   "source": [
    "for i in range(Axi, Axf+1):\n",
    "    \n",
    "    Ay = round(Am*i + Ab)\n",
    "    # print(f\"Axi: {i} Ayi: {Ay}\")\n",
    "    for j in range(Bxi, Bxf+1):\n",
    "        By = round(Bm*j + Bb)\n",
    "        # print(f\"Bxi: {j} Byi: {By}\")\n",
    "        if j-2 < i < j+2 and By-5< Ay < By+5:\n",
    "            print(f\"Axi: {i} Ayi: {Ay}\")\n",
    "            print(f\"Bxi: {j} Byi: {By}\")"
   ]
  },
  {
   "cell_type": "code",
   "execution_count": 15,
   "metadata": {},
   "outputs": [
    {
     "name": "stdout",
     "output_type": "stream",
     "text": [
      "Bxi: 137 Byi: 39\n",
      "Bxi: 138 Byi: 48\n",
      "Bxi: 139 Byi: 57\n",
      "Bxi: 140 Byi: 66\n",
      "Bxi: 141 Byi: 75\n",
      "Bxi: 142 Byi: 83\n",
      "Bxi: 143 Byi: 92\n",
      "Bxi: 144 Byi: 101\n",
      "Bxi: 145 Byi: 110\n",
      "Bxi: 146 Byi: 119\n",
      "Bxi: 147 Byi: 128\n",
      "Bxi: 148 Byi: 137\n",
      "Bxi: 149 Byi: 146\n",
      "Bxi: 150 Byi: 155\n",
      "Bxi: 151 Byi: 163\n",
      "Bxi: 152 Byi: 172\n",
      "Bxi: 153 Byi: 181\n",
      "Bxi: 154 Byi: 190\n",
      "Bxi: 155 Byi: 199\n"
     ]
    }
   ],
   "source": [
    "for i in range(Bxi, Bxf+1):\n",
    "    print(f\"Bxi: {i} Byi: {round(Bm*i + Bb)}\")"
   ]
  },
  {
   "cell_type": "code",
   "execution_count": 32,
   "metadata": {},
   "outputs": [
    {
     "name": "stdout",
     "output_type": "stream",
     "text": [
      "['a', 'b', 'c', 'd', 'e']\n",
      "['a', 'd', 'a', 'b', 'c']\n"
     ]
    }
   ],
   "source": [
    "L = ['a', 'b', 'c', 'd', 'e']\n",
    "i = [3, 1]\n",
    "print(L)\n",
    "if len(i) > 0:\n",
    "    for c in i:\n",
    "        x = L[c]\n",
    "        L.pop(c)\n",
    "        L.insert(0, x)\n",
    "print(L)\n"
   ]
  },
  {
   "cell_type": "code",
   "execution_count": 35,
   "metadata": {},
   "outputs": [
    {
     "name": "stdout",
     "output_type": "stream",
     "text": [
      "[3, 1]              \n"
     ]
    }
   ],
   "source": [
    "i = [3, 1]\n",
    "print(f\"{str(i):<20}\")"
   ]
  }
 ],
 "metadata": {
  "kernelspec": {
   "display_name": "Python 3",
   "language": "python",
   "name": "python3"
  },
  "language_info": {
   "codemirror_mode": {
    "name": "ipython",
    "version": 3
   },
   "file_extension": ".py",
   "mimetype": "text/x-python",
   "name": "python",
   "nbconvert_exporter": "python",
   "pygments_lexer": "ipython3",
   "version": "3.10.12"
  }
 },
 "nbformat": 4,
 "nbformat_minor": 2
}
